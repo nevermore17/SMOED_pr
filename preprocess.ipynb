{
 "cells": [
  {
   "cell_type": "code",
   "execution_count": 53,
   "metadata": {},
   "outputs": [],
   "source": [
    "import math\n",
    "\n",
    "import pandas as pd\n",
    "\n",
    "df = pd.read_csv('sample.csv')"
   ]
  },
  {
   "cell_type": "code",
   "execution_count": 54,
   "metadata": {},
   "outputs": [
    {
     "data": {
      "text/plain": "   Unnamed: 0  Sleep duration  Sleep efficiency  Age  REM sleep percentage  \\\n0           0             7.0              0.73   61                    20   \n1           1             8.0              0.81   21                    24   \n2           2             6.0              0.72   41                    18   \n3           3             9.0              0.56   12                    18   \n4           4             7.0              0.94   27                    28   \n\n   Light sleep percentage  Deep sleep percentage  \n0                      13                     65  \n1                      17                     60  \n2                      10                     70  \n3                      45                     35  \n4                      21                     57  ",
      "text/html": "<div>\n<style scoped>\n    .dataframe tbody tr th:only-of-type {\n        vertical-align: middle;\n    }\n\n    .dataframe tbody tr th {\n        vertical-align: top;\n    }\n\n    .dataframe thead th {\n        text-align: right;\n    }\n</style>\n<table border=\"1\" class=\"dataframe\">\n  <thead>\n    <tr style=\"text-align: right;\">\n      <th></th>\n      <th>Unnamed: 0</th>\n      <th>Sleep duration</th>\n      <th>Sleep efficiency</th>\n      <th>Age</th>\n      <th>REM sleep percentage</th>\n      <th>Light sleep percentage</th>\n      <th>Deep sleep percentage</th>\n    </tr>\n  </thead>\n  <tbody>\n    <tr>\n      <th>0</th>\n      <td>0</td>\n      <td>7.0</td>\n      <td>0.73</td>\n      <td>61</td>\n      <td>20</td>\n      <td>13</td>\n      <td>65</td>\n    </tr>\n    <tr>\n      <th>1</th>\n      <td>1</td>\n      <td>8.0</td>\n      <td>0.81</td>\n      <td>21</td>\n      <td>24</td>\n      <td>17</td>\n      <td>60</td>\n    </tr>\n    <tr>\n      <th>2</th>\n      <td>2</td>\n      <td>6.0</td>\n      <td>0.72</td>\n      <td>41</td>\n      <td>18</td>\n      <td>10</td>\n      <td>70</td>\n    </tr>\n    <tr>\n      <th>3</th>\n      <td>3</td>\n      <td>9.0</td>\n      <td>0.56</td>\n      <td>12</td>\n      <td>18</td>\n      <td>45</td>\n      <td>35</td>\n    </tr>\n    <tr>\n      <th>4</th>\n      <td>4</td>\n      <td>7.0</td>\n      <td>0.94</td>\n      <td>27</td>\n      <td>28</td>\n      <td>21</td>\n      <td>57</td>\n    </tr>\n  </tbody>\n</table>\n</div>"
     },
     "execution_count": 54,
     "metadata": {},
     "output_type": "execute_result"
    }
   ],
   "source": [
    "df.head()"
   ]
  },
  {
   "cell_type": "code",
   "execution_count": 55,
   "metadata": {},
   "outputs": [],
   "source": [
    "import numpy as np\n",
    "\n",
    "X = np.array(df['Sleep duration'].values)\n",
    "N = 106"
   ]
  },
  {
   "cell_type": "code",
   "execution_count": 56,
   "metadata": {},
   "outputs": [
    {
     "data": {
      "text/plain": "array([7. , 8. , 6. , 9. , 7. , 7. , 8. , 8. , 8.5, 8. ])"
     },
     "execution_count": 56,
     "metadata": {},
     "output_type": "execute_result"
    }
   ],
   "source": [
    "X[:10]"
   ]
  },
  {
   "cell_type": "code",
   "execution_count": 57,
   "metadata": {},
   "outputs": [],
   "source": [
    "X = np.sort(X, axis=None)"
   ]
  },
  {
   "cell_type": "code",
   "execution_count": 58,
   "metadata": {},
   "outputs": [
    {
     "data": {
      "text/plain": "array([5. , 5. , 5.5, 6. , 6. , 6. , 6. , 6. , 6. , 6. ])"
     },
     "execution_count": 58,
     "metadata": {},
     "output_type": "execute_result"
    }
   ],
   "source": [
    "X[:10]"
   ]
  },
  {
   "cell_type": "code",
   "execution_count": 59,
   "metadata": {},
   "outputs": [],
   "source": [
    "X_unique, n = np.unique(X, return_counts=True)"
   ]
  },
  {
   "cell_type": "code",
   "execution_count": 60,
   "metadata": {},
   "outputs": [
    {
     "data": {
      "text/plain": "array([ 5. ,  5.5,  6. ,  7. ,  7.5,  8. ,  8.5,  9. , 10. ])"
     },
     "execution_count": 60,
     "metadata": {},
     "output_type": "execute_result"
    }
   ],
   "source": [
    "X_unique"
   ]
  },
  {
   "cell_type": "code",
   "execution_count": 61,
   "metadata": {},
   "outputs": [
    {
     "data": {
      "text/plain": "array([ 2,  1, 11, 28, 19, 28, 11,  5,  1])"
     },
     "execution_count": 61,
     "metadata": {},
     "output_type": "execute_result"
    }
   ],
   "source": [
    "n"
   ]
  },
  {
   "cell_type": "code",
   "execution_count": 62,
   "metadata": {},
   "outputs": [],
   "source": [
    "k = int(1 + 3.31 * np.log10(len(n)))\n",
    "if k % 2 == 0:\n",
    "    k += 1"
   ]
  },
  {
   "cell_type": "code",
   "execution_count": 63,
   "metadata": {},
   "outputs": [
    {
     "data": {
      "text/plain": "5"
     },
     "execution_count": 63,
     "metadata": {},
     "output_type": "execute_result"
    }
   ],
   "source": [
    "k"
   ]
  },
  {
   "cell_type": "code",
   "execution_count": 64,
   "metadata": {},
   "outputs": [],
   "source": [
    "h = (np.max(X_unique) - np.min(X_unique)) / k"
   ]
  },
  {
   "cell_type": "code",
   "execution_count": 65,
   "metadata": {},
   "outputs": [
    {
     "data": {
      "text/plain": "1.0"
     },
     "execution_count": 65,
     "metadata": {},
     "output_type": "execute_result"
    }
   ],
   "source": [
    "h"
   ]
  },
  {
   "cell_type": "code",
   "execution_count": 66,
   "metadata": {},
   "outputs": [],
   "source": [
    "intervals = []\n",
    "\n",
    "min = X_unique[0]\n",
    "for i in range(1,k):\n",
    "    interval = []\n",
    "    interval.append(min + (i - 1) * h)\n",
    "    interval.append(min + i * h)\n",
    "    intervals.append(interval)\n",
    "interval = [min + (k - 1) * h, min + k * h]\n",
    "intervals.append(interval)"
   ]
  },
  {
   "cell_type": "code",
   "execution_count": 67,
   "metadata": {},
   "outputs": [
    {
     "data": {
      "text/plain": "[[5.0, 6.0], [6.0, 7.0], [7.0, 8.0], [8.0, 9.0], [9.0, 10.0]]"
     },
     "execution_count": 67,
     "metadata": {},
     "output_type": "execute_result"
    }
   ],
   "source": [
    "intervals"
   ]
  },
  {
   "cell_type": "code",
   "execution_count": 68,
   "metadata": {},
   "outputs": [],
   "source": [
    "mid = np.array([(i[0] + i[1]) / 2 for i in intervals])"
   ]
  },
  {
   "cell_type": "code",
   "execution_count": 69,
   "metadata": {},
   "outputs": [
    {
     "data": {
      "text/plain": "array([5.5, 6.5, 7.5, 8.5, 9.5])"
     },
     "execution_count": 69,
     "metadata": {},
     "output_type": "execute_result"
    }
   ],
   "source": [
    "mid"
   ]
  },
  {
   "cell_type": "code",
   "execution_count": 70,
   "metadata": {},
   "outputs": [],
   "source": [
    "n_ = np.zeros(len(intervals))\n",
    "for x in X:\n",
    "    for i in range(len(intervals)):\n",
    "        if x >= intervals[i][0] and (i < len(intervals) - 1 and x < intervals[i][1] or i == len(intervals) - 1 and x <= intervals[i][1]):\n",
    "            n_[i] += 1"
   ]
  },
  {
   "cell_type": "code",
   "execution_count": 71,
   "metadata": {},
   "outputs": [
    {
     "data": {
      "text/plain": "array([ 3., 11., 47., 39.,  6.])"
     },
     "execution_count": 71,
     "metadata": {},
     "output_type": "execute_result"
    }
   ],
   "source": [
    "n_"
   ]
  },
  {
   "attachments": {},
   "cell_type": "markdown",
   "metadata": {},
   "source": [
    "| $i$ | $[x_i, x_{i+1})$ | $\\tilde{x}_i$ | $n_i$ | $p_{i}^{*}$ | $n_{i}^{\\Sigma}$ | $p_{i}^{\\Sigma}$ |\n",
    "| --- | ---------------- | ------------- | ----- | ----------- | ---------------- | ---------------- |\n",
    "| 1   | $[5, 6)$         | 5.5           | 3     | 0.028       | 3                | 0.028            |\n",
    "| 2   | $[6, 7)$         | 6.5           | 11    | 0.104       | 14               | 0.132            |\n",
    "| 3   | $[7, 8)$         | 7.5           | 47    | 0.443       | 61               | 0.575            |\n",
    "| 4   | $[8, 9)$         | 8.5           | 39    | 0.368       | 100              | 0.943            |\n",
    "| 5   | $[9, 10]$        | 9.5           | 6     | 0.057       | 106              | 1                |\n",
    "|     |                  | $\\Sigma$      | 106   | 1           |                  |                  |"
   ]
  },
  {
   "cell_type": "code",
   "execution_count": 72,
   "metadata": {},
   "outputs": [
    {
     "data": {
      "text/plain": "<Figure size 432x288 with 1 Axes>",
      "image/png": "[encoded data removed]"
     },
     "metadata": {},
     "output_type": "display_data"
    }
   ],
   "source": [
    "import matplotlib.pyplot as plt\n",
    "\n",
    "plt.suptitle(\"Полигон для абсолютных частот\")\n",
    "plt.xlabel(\"Середина интервала\")\n",
    "plt.ylabel(\"Частота\")\n",
    "plt.grid()\n",
    "plt.xticks(mid)\n",
    "plt.plot(mid, n_)\n",
    "plt.plot(mid, n_, 'bo')\n",
    "plt.show()"
   ]
  },
  {
   "cell_type": "code",
   "execution_count": 73,
   "metadata": {},
   "outputs": [],
   "source": [
    "bins = [i[0] for i in intervals]\n",
    "bins.append(intervals[-1][1])"
   ]
  },
  {
   "cell_type": "code",
   "execution_count": 74,
   "metadata": {},
   "outputs": [
    {
     "data": {
      "text/plain": "[5.0, 6.0, 7.0, 8.0, 9.0, 10.0]"
     },
     "execution_count": 74,
     "metadata": {},
     "output_type": "execute_result"
    }
   ],
   "source": [
    "bins"
   ]
  },
  {
   "cell_type": "code",
   "execution_count": 118,
   "metadata": {},
   "outputs": [
    {
     "data": {
      "text/plain": "<Figure size 432x288 with 1 Axes>",
      "image/png": "[encoded data removed]"
     },
     "metadata": {},
     "output_type": "display_data"
    }
   ],
   "source": [
    "plt.suptitle(\"Гистограмма для абсолютных частот\")\n",
    "plt.xlabel(\"Интервал\")\n",
    "plt.ylabel(\"Частота\")\n",
    "plt.grid()\n",
    "plt.hist(X, bins=bins)\n",
    "plt.show()"
   ]
  },
  {
   "cell_type": "code",
   "execution_count": 76,
   "metadata": {},
   "outputs": [],
   "source": [
    "m = [0, 0]\n",
    "for i in n_:\n",
    "    m.append(m[-1] + i)\n",
    "    m.append(m[-2] + i)\n",
    "m.append(m[-1])"
   ]
  },
  {
   "cell_type": "code",
   "execution_count": 77,
   "metadata": {},
   "outputs": [
    {
     "data": {
      "text/plain": "[0, 0, 3.0, 3.0, 14.0, 14.0, 61.0, 61.0, 100.0, 100.0, 106.0, 106.0, 106.0]"
     },
     "execution_count": 77,
     "metadata": {},
     "output_type": "execute_result"
    }
   ],
   "source": [
    "m"
   ]
  },
  {
   "cell_type": "code",
   "execution_count": 78,
   "metadata": {},
   "outputs": [],
   "source": [
    "x = [bins[0] - h]\n",
    "for i in bins:\n",
    "    x.append(i - 0.01)\n",
    "    x.append(i)"
   ]
  },
  {
   "cell_type": "code",
   "execution_count": 79,
   "metadata": {},
   "outputs": [
    {
     "data": {
      "text/plain": "[4.0, 4.99, 5.0, 5.99, 6.0, 6.99, 7.0, 7.99, 8.0, 8.99, 9.0, 9.99, 10.0]"
     },
     "execution_count": 79,
     "metadata": {},
     "output_type": "execute_result"
    }
   ],
   "source": [
    "x"
   ]
  },
  {
   "cell_type": "code",
   "execution_count": 80,
   "metadata": {},
   "outputs": [],
   "source": [
    "m_ = [m[i] for i in range(0, len(m), 2)]\n",
    "m_ = m_[1:-1]"
   ]
  },
  {
   "cell_type": "code",
   "execution_count": 81,
   "metadata": {},
   "outputs": [
    {
     "data": {
      "text/plain": "[3.0, 14.0, 61.0, 100.0, 106.0]"
     },
     "execution_count": 81,
     "metadata": {},
     "output_type": "execute_result"
    }
   ],
   "source": [
    "m_"
   ]
  },
  {
   "cell_type": "code",
   "execution_count": 82,
   "metadata": {},
   "outputs": [
    {
     "data": {
      "text/plain": "<Figure size 432x288 with 1 Axes>",
      "image/png": "[encoded data removed]"
     },
     "metadata": {},
     "output_type": "display_data"
    }
   ],
   "source": [
    "plt.suptitle(\"Эмпирическая функция распределения для абсолютных частот\")\n",
    "plt.xticks(bins)\n",
    "plt.yticks(m)\n",
    "for i in range(len(x) - 1):\n",
    "    if i%2:\n",
    "        continue\n",
    "    plt.plot([x[i], x[i+1]], [m[i], m[i+1]], 'b')\n",
    "for i, j in zip(bins[:-1], m_):\n",
    "    plt.plot([i, i],[0, j], '--', color='black', linewidth=0.5)\n",
    "    plt.plot([bins[0] - h, i],[j, j], '--', color='black', linewidth=0.5)\n",
    "plt.plot(np.array(bins[:-1]) + 0.05, m_, 'b<')\n",
    "plt.show()"
   ]
  },
  {
   "cell_type": "code",
   "execution_count": 83,
   "metadata": {},
   "outputs": [],
   "source": [
    "p_ = n_ / len(X)"
   ]
  },
  {
   "cell_type": "code",
   "execution_count": 84,
   "metadata": {},
   "outputs": [
    {
     "data": {
      "text/plain": "array([0.02830189, 0.10377358, 0.44339623, 0.36792453, 0.05660377])"
     },
     "execution_count": 84,
     "metadata": {},
     "output_type": "execute_result"
    }
   ],
   "source": [
    "p_"
   ]
  },
  {
   "cell_type": "code",
   "execution_count": 85,
   "metadata": {},
   "outputs": [
    {
     "data": {
      "text/plain": "<Figure size 432x288 with 1 Axes>",
      "image/png": "[encoded data removed]"
     },
     "metadata": {},
     "output_type": "display_data"
    }
   ],
   "source": [
    "plt.suptitle(\"Полигон для относительных частот\")\n",
    "plt.xlabel(\"Середина интервала\")\n",
    "plt.ylabel(\"Частота\")\n",
    "plt.grid()\n",
    "plt.xticks(mid)\n",
    "plt.plot(mid, p_)\n",
    "plt.plot(mid, p_, 'bo')\n",
    "plt.show()"
   ]
  },
  {
   "cell_type": "code",
   "execution_count": 86,
   "metadata": {},
   "outputs": [
    {
     "data": {
      "text/plain": "<Figure size 432x288 with 1 Axes>",
      "image/png": "[encoded data removed]"
     },
     "metadata": {},
     "output_type": "display_data"
    }
   ],
   "source": [
    "plt.suptitle(\"Гистограмма для относительных частот\")\n",
    "plt.xlabel(\"Интервал\")\n",
    "plt.ylabel(\"Частота\")\n",
    "plt.grid()\n",
    "plt.hist(X, bins=bins, density=True)\n",
    "plt.show()"
   ]
  },
  {
   "cell_type": "code",
   "execution_count": 87,
   "metadata": {},
   "outputs": [],
   "source": [
    "m = np.array(m)\n",
    "m = m / len(X)"
   ]
  },
  {
   "cell_type": "code",
   "execution_count": 88,
   "metadata": {},
   "outputs": [
    {
     "data": {
      "text/plain": "array([0.        , 0.        , 0.02830189, 0.02830189, 0.13207547,\n       0.13207547, 0.5754717 , 0.5754717 , 0.94339623, 0.94339623,\n       1.        , 1.        , 1.        ])"
     },
     "execution_count": 88,
     "metadata": {},
     "output_type": "execute_result"
    }
   ],
   "source": [
    "m"
   ]
  },
  {
   "cell_type": "code",
   "execution_count": 89,
   "metadata": {},
   "outputs": [],
   "source": [
    "m_ = np.array(m_) / len(X)"
   ]
  },
  {
   "cell_type": "code",
   "execution_count": 90,
   "metadata": {},
   "outputs": [
    {
     "data": {
      "text/plain": "<Figure size 432x288 with 1 Axes>",
      "image/png": "[encoded data removed]"
     },
     "metadata": {},
     "output_type": "display_data"
    }
   ],
   "source": [
    "plt.suptitle(\"Эмпирическая функция распределения для абсолютных частот\")\n",
    "plt.xticks(bins)\n",
    "plt.yticks(m)\n",
    "for i in range(len(x) - 1):\n",
    "    if i%2:\n",
    "        continue\n",
    "    plt.plot([x[i], x[i+1]], [m[i], m[i+1]], 'b')\n",
    "for i, j in zip(bins[:-1], m_):\n",
    "    plt.plot([i, i],[0, j], '--', color='black', linewidth=0.5)\n",
    "    plt.plot([bins[0] - h, i],[j, j], '--', color='black', linewidth=0.5)\n",
    "plt.plot(np.array(bins[:-1]) + 0.05, m_, 'b<')\n",
    "plt.show()"
   ]
  },
  {
   "cell_type": "code",
   "execution_count": 90,
   "metadata": {},
   "outputs": [],
   "source": []
  },
  {
   "cell_type": "code",
   "execution_count": 90,
   "metadata": {},
   "outputs": [],
   "source": []
  },
  {
   "cell_type": "code",
   "execution_count": 91,
   "metadata": {},
   "outputs": [],
   "source": [
    "C = mid[int(len(mid) / 2)]"
   ]
  },
  {
   "cell_type": "code",
   "execution_count": 92,
   "metadata": {},
   "outputs": [
    {
     "data": {
      "text/plain": "7.5"
     },
     "execution_count": 92,
     "metadata": {},
     "output_type": "execute_result"
    }
   ],
   "source": [
    "C"
   ]
  },
  {
   "cell_type": "code",
   "execution_count": 93,
   "metadata": {},
   "outputs": [],
   "source": [
    "# p_[3] += 0.00001\n",
    "# p_ = [round(i, 5) for i in p_]"
   ]
  },
  {
   "cell_type": "code",
   "execution_count": 94,
   "metadata": {},
   "outputs": [
    {
     "data": {
      "text/plain": "array([0.02830189, 0.10377358, 0.44339623, 0.36792453, 0.05660377])"
     },
     "execution_count": 94,
     "metadata": {},
     "output_type": "execute_result"
    }
   ],
   "source": [
    "p_"
   ]
  },
  {
   "cell_type": "code",
   "execution_count": 95,
   "metadata": {},
   "outputs": [],
   "source": [
    "u = []\n",
    "for x in mid:\n",
    "    u.append((x - C) / h)"
   ]
  },
  {
   "cell_type": "code",
   "execution_count": 96,
   "metadata": {},
   "outputs": [
    {
     "data": {
      "text/plain": "[-2.0, -1.0, 0.0, 1.0, 2.0]"
     },
     "execution_count": 96,
     "metadata": {},
     "output_type": "execute_result"
    }
   ],
   "source": [
    "u"
   ]
  },
  {
   "cell_type": "code",
   "execution_count": 97,
   "metadata": {},
   "outputs": [],
   "source": [
    "nu = []\n",
    "for i in range(1,5):\n",
    "    temp = []\n",
    "    for p, q in zip(p_, u):\n",
    "        temp.append(p * (q ** i))\n",
    "    nu.append(temp)\n",
    "\n",
    "nu.append([])\n",
    "for p, q in zip(p_, u):\n",
    "    nu[-1].append(p * ((q + 1) ** 4))"
   ]
  },
  {
   "cell_type": "code",
   "execution_count": 98,
   "metadata": {},
   "outputs": [
    {
     "name": "stdout",
     "output_type": "stream",
     "text": [
      "[[-0.05660377358490566, -0.10377358490566038, 0.0, 0.36792452830188677, 0.11320754716981132], [0.11320754716981132, 0.10377358490566038, 0.0, 0.36792452830188677, 0.22641509433962265], [-0.22641509433962265, -0.10377358490566038, 0.0, 0.36792452830188677, 0.4528301886792453], [0.4528301886792453, 0.10377358490566038, 0.0, 0.36792452830188677, 0.9056603773584906], [0.02830188679245283, 0.0, 0.44339622641509435, 5.886792452830188, 4.584905660377359]]\n"
     ]
    }
   ],
   "source": [
    "print(nu)"
   ]
  },
  {
   "cell_type": "code",
   "execution_count": 99,
   "metadata": {},
   "outputs": [],
   "source": [
    "s = []\n",
    "for u in nu:\n",
    "    sum = 0\n",
    "    for i in u:\n",
    "        sum+= i\n",
    "    s.append(sum)"
   ]
  },
  {
   "cell_type": "code",
   "execution_count": 100,
   "metadata": {},
   "outputs": [
    {
     "data": {
      "text/plain": "[0.320754716981132,\n 0.8113207547169812,\n 0.490566037735849,\n 1.830188679245283,\n 10.943396226415095]"
     },
     "execution_count": 100,
     "metadata": {},
     "output_type": "execute_result"
    }
   ],
   "source": [
    "s"
   ]
  },
  {
   "cell_type": "code",
   "execution_count": 117,
   "metadata": {},
   "outputs": [
    {
     "name": "stdout",
     "output_type": "stream",
     "text": [
      "10.943396226415095 10.943396226415093\n"
     ]
    }
   ],
   "source": [
    "print(s[-1], s[-2] + 4 * s[-3] + 6 * s[-4] + 4 * s[-5] + 1)"
   ]
  },
  {
   "attachments": {},
   "cell_type": "markdown",
   "metadata": {},
   "source": [
    "| $i$ | $x_i$ | $n_i$   | $u_i$ | $n_iu_i$ | $n_iu_i^2$ | $n_iu_i^3$ | $n_iu_i^4$ | $n_i(u_i + 1)^4$ |\n",
    "| --- | ----- | ------- | ----- | -------- | ---------- | ---------- | ---------- | ---------------- |\n",
    "| 1   | 5.5   | 0.0283  | -2    | -0.0566  | 0.1132     | -0.2264    | 0.4528     | 0.0283           |\n",
    "| 2   | 6.5   | 0.10377 | -1    | -0.10377 | 0.10377    | -0.10377   | 0.10377    | 0                |\n",
    "| 3   | 7.5   | 0.4434  | 0     | 0        | 0          | 0          | 0          | 0.4434           |\n",
    "| 4   | 8.5   | 0.36793 | 1     | 0.36793  | 0.36793    | 0.36793    | 0.36792    | 5.88688          |\n",
    "| 5   | 9.5   | 0.0566  | 2     | 0.1132   | 0.2264     | 0.4528     | 0.90566    | 4.5846           |\n",
    "|  | $\\Sigma$ | 1       | -     | 0.32076  | 0.8113     | 0.49056    | 1.8301     | 10.94318         |"
   ]
  },
  {
   "attachments": {},
   "cell_type": "markdown",
   "metadata": {},
   "source": [
    "Проведем контроль вычислений. Должно выполняться неравенство $$\\Sigma n_j(u_j + 1)^4=\\Sigma n_ju_j^4 + 4\\Sigma n_ju_j^3 + 6\\Sigma n_ju_j^2 + 4\\Sigma n_ju_j + 1$$ $$1.8301 + 4 * 0.49056 + 6 * 0.8113 + 4 * 0.32076 + 1 = 10.94318$$\n"
   ]
  },
  {
   "attachments": {},
   "cell_type": "markdown",
   "metadata": {},
   "source": [
    "$$\\overline{m}_k=\\frac{1}{n}\\Sigma n_j(x_j-\\overline{x}_в)^k$$"
   ]
  },
  {
   "cell_type": "code",
   "execution_count": 102,
   "metadata": {},
   "outputs": [],
   "source": [
    "mu = []\n",
    "mu.append(0)\n",
    "mu.append((s[1] - (s[0] ** 2)) * h ** 2)\n",
    "mu.append((s[2] - 3 * s[1] * s[0] + 2 * (s[0] ** 3)) * h ** 3)\n",
    "mu.append((s[3] - 4 * s[2] * s[0] + 6 * s[1] * (s[0] ** 2) - 3 * (s[0] ** 4)) * h ** 4)"
   ]
  },
  {
   "cell_type": "code",
   "execution_count": 103,
   "metadata": {},
   "outputs": [
    {
     "data": {
      "text/plain": "[0, 0.7084371662513351, -0.22413804684403904, 1.6698576423921432]"
     },
     "execution_count": 103,
     "metadata": {},
     "output_type": "execute_result"
    }
   ],
   "source": [
    "mu"
   ]
  },
  {
   "attachments": {},
   "cell_type": "markdown",
   "metadata": {},
   "source": [
    "| $i$ | $\\nu_i^{*}$ | $\\mu_i^{*}$ |\n",
    "| --- | ----------- | ----------- |\n",
    "| 1   | 0.32076     | 0           |\n",
    "| 2   | 0.8113      | 0.70844     |\n",
    "| 3   | 0.49056     | -0.22413    |\n",
    "| 4   | 1.8301      | 1.66986     |"
   ]
  },
  {
   "cell_type": "code",
   "execution_count": 155,
   "metadata": {},
   "outputs": [
    {
     "name": "stdout",
     "output_type": "stream",
     "text": [
      "Первый способ:\n",
      "\tВыборочное среднее: 7.820754716981132 \n",
      "\tВыборочная дисперсия: 0.7084371662513349\n",
      "Второй способ:\n",
      "\tВыборочное среднее: 7.820754716981132 \n",
      "\tВыборочная дисперсия: 0.7084371662513351\n"
     ]
    }
   ],
   "source": [
    "sum = 0\n",
    "for x, p in zip(mid, n_):\n",
    "    sum += x * p\n",
    "mean_1 = sum / len(X)\n",
    "\n",
    "sum = 0\n",
    "for x, p in zip(mid, n_):\n",
    "    sum += ((x - mean_1) ** 2) * p\n",
    "D_1 = sum / len(X)\n",
    "\n",
    "print(\"Первый способ:\")\n",
    "print(\"\\tВыборочное среднее:\",mean_1,\"\\n\\tВыборочная дисперсия:\", D_1)\n",
    "\n",
    "sum = 0\n",
    "for x, p in zip(mid, p_):\n",
    "    sum += (x - C) / h * p\n",
    "M_1 = sum\n",
    "mean_2 = sum * h + C\n",
    "\n",
    "sum = 0\n",
    "for x, p in zip(mid, p_):\n",
    "    sum += ((x - C) ** 2) / h * p\n",
    "M_2 = sum\n",
    "\n",
    "D_2 = (M_2 - (M_1 ** 2)) * h ** 2\n",
    "\n",
    "print(\"Второй способ:\")\n",
    "print(\"\\tВыборочное среднее:\",mean_2,\"\\n\\tВыборочная дисперсия:\", D_2)"
   ]
  },
  {
   "cell_type": "code",
   "execution_count": 154,
   "metadata": {},
   "outputs": [
    {
     "name": "stdout",
     "output_type": "stream",
     "text": [
      "Несмещенная дисперсия: 0.7151841868823\n",
      "Несмещенное СКО: 0.8456856312379323\n"
     ]
    }
   ],
   "source": [
    "import math\n",
    "\n",
    "D_ispr = D_1 * (N / (N-1))\n",
    "SKO_ispr = math.sqrt(D_ispr)\n",
    "print(\"Несмещенная дисперсия:\", D_ispr)\n",
    "print(\"Несмещенное СКО:\", SKO_ispr)"
   ]
  },
  {
   "cell_type": "code",
   "execution_count": 153,
   "outputs": [
    {
     "name": "stdout",
     "output_type": "stream",
     "text": [
      "Коэфициент ассиметрии: -0.3705857606658067\n",
      "Коэфициент эксцесса: 0.2647027250076919\n"
     ]
    }
   ],
   "source": [
    "sum = 0\n",
    "for x, p in zip(mid, n_):\n",
    "    sum += ((x - mean_1) ** 3) * p\n",
    "m3 = sum / len(X)\n",
    "\n",
    "sum = 0\n",
    "for x, p in zip(mid, n_):\n",
    "    sum += ((x - mean_1) ** 4) * p\n",
    "m4 = sum / len(X)\n",
    "\n",
    "A_s = m3 / (SKO_ispr ** 3)\n",
    "Eksc = m4 / (SKO_ispr ** 4) - 3\n",
    "\n",
    "print(\"Коэфициент ассиметрии:\", A_s)\n",
    "print(\"Коэфициент эксцесса:\", Eksc)"
   ],
   "metadata": {
    "collapsed": false
   }
  },
  {
   "cell_type": "code",
   "execution_count": 152,
   "outputs": [
    {
     "name": "stdout",
     "output_type": "stream",
     "text": [
      "Мода: 7.818181818181818\n",
      "Медиана: 7.829787234042553\n",
      "Коэфициент вариации: 10.7622234128808\n"
     ]
    }
   ],
   "source": [
    "Mod = 7 + h * ((p_[2] - p_[1]) / ((p_[2] - p_[1]) + (p_[2] - p_[3])))\n",
    "Med = 7 + h * (0.5 - (p_[0] + p_[1])) / (p_[2])\n",
    "Vk = 100 * math.sqrt(D_1) / mean_1\n",
    "print(\"Мода:\", Mod)\n",
    "print(\"Медиана:\", Med)\n",
    "print(\"Коэфициент вариации:\", Vk)"
   ],
   "metadata": {
    "collapsed": false
   }
  },
  {
   "cell_type": "code",
   "execution_count": null,
   "outputs": [],
   "source": [],
   "metadata": {
    "collapsed": false
   }
  }
 ],
 "metadata": {
  "kernelspec": {
   "display_name": "Python 3",
   "language": "python",
   "name": "python3"
  },
  "language_info": {
   "codemirror_mode": {
    "name": "ipython",
    "version": 3
   },
   "file_extension": ".py",
   "mimetype": "text/x-python",
   "name": "python",
   "nbconvert_exporter": "python",
   "pygments_lexer": "ipython3",
   "version": "3.10.6"
  },
  "orig_nbformat": 4,
  "vscode": {
   "interpreter": {
    "hash": "916dbcbb3f70747c44a77c7bcd40155683ae19c65e1c03b4aa3499c5328201f1"
   }
  }
 },
 "nbformat": 4,
 "nbformat_minor": 2
}
